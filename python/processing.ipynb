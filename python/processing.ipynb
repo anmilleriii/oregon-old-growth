{
 "cells": [
  {
   "cell_type": "markdown",
   "metadata": {},
   "source": [
    "# Oregon Old Growth\n",
    "\n",
    "This notebook records that GDAL commands used to generate the layers used in the oregon.anmiller.com.\n",
    "\n",
    "## Layers\n",
    "\n",
    "### Oregon State Boundary\n",
    "\n",
    "Vector, only simplified\n",
    "\n",
    "### Private Land in Oregon\n",
    "\n",
    "Taken from GNN raster, then vectorized.\n",
    "\n",
    "### Old growth in oregon\n",
    "\n",
    "Taken from LEMMA, then LSOG classified, then raster compressed."
   ]
  },
  {
   "cell_type": "code",
   "execution_count": null,
   "metadata": {},
   "outputs": [],
   "source": [
    "\"\"\"\n",
    "Install libraries:\n",
    "\n",
    "pip install folium\n",
    "pip install geopandas\n",
    "pip install rasterio\n",
    "pip install gdal\n",
    "\"\"\""
   ]
  },
  {
   "cell_type": "markdown",
   "metadata": {},
   "source": [
    "# Import necessary libraries"
   ]
  },
  {
   "cell_type": "code",
   "execution_count": null,
   "metadata": {},
   "outputs": [],
   "source": [
    "import folium\n",
    "import geopandas as gpd\n",
    "import rasterio\n",
    "from rasterio.mask import mask\n",
    "from shapely.geometry import mapping\n",
    "import numpy as np\n",
    "import matplotlib.pyplot as plt\n",
    "\n"
   ]
  },
  {
   "cell_type": "code",
   "execution_count": null,
   "metadata": {},
   "outputs": [],
   "source": [
    "\n",
    "# Define the center of the map\n",
    "center = [44.0, -120.5]\n",
    "\n",
    "# Create the map object\n",
    "m = folium.Map(location=center, zoom_start=7, tiles=None)\n",
    "\n",
    "# Add a Mapbox satellite layer\n",
    "mapbox_access_token = 'your_mapbox_access_token_here'\n",
    "mapbox_tiles = 'https://api.mapbox.com/styles/v1/mapbox/satellite-v9/tiles/{z}/{x}/{y}?access_token=' + mapbox_access_token\n",
    "folium.TileLayer(\n",
    "    tiles=mapbox_tiles,\n",
    "    attr='Mapbox',\n",
    "    name='Mapbox Satellite',\n",
    "    overlay=True,\n",
    "    control=True\n",
    ").add_to(m)"
   ]
  },
  {
   "cell_type": "code",
   "execution_count": null,
   "metadata": {},
   "outputs": [],
   "source": [
    "\n",
    "# Load the GeoJSON for Oregon's boundaries\n",
    "oregon_geojson = {\n",
    "    \"type\": \"FeatureCollection\",\n",
    "    \"features\": [{\n",
    "        \"type\": \"Feature\",\n",
    "        \"geometry\": {\n",
    "            \"type\": \"Polygon\",\n",
    "            \"coordinates\": [[\n",
    "                [-124.566244, 42.000709],\n",
    "                [-123.382373, 42.000709],\n",
    "                [-123.382373, 46.258633],\n",
    "                [-124.566244, 46.258633],\n",
    "                [-124.566244, 42.000709]\n",
    "            ]]\n",
    "        },\n",
    "        \"properties\": {\n",
    "            \"name\": \"Oregon\"\n",
    "        }\n",
    "    }]\n",
    "}\n",
    "\n",
    "# Convert GeoJSON to GeoDataFrame\n",
    "oregon_gdf = gpd.GeoDataFrame.from_features(oregon_geojson['features'])\n",
    "\n",
    "# Path to the raster file\n",
    "raster_path = 'path_to_your_raster_file.tif'\n",
    "\n",
    "# Open the raster file\n",
    "with rasterio.open(raster_path) as src:\n",
    "    # Clip the raster with the GeoDataFrame boundary\n",
    "    out_image, out_transform = mask(src, [mapping(oregon_gdf.geometry[0])], crop=True)\n",
    "    out_meta = src.meta\n",
    "\n",
    "# Update the metadata with new dimensions, transform, and CRS\n",
    "out_meta.update({\n",
    "    \"driver\": \"GTiff\",\n",
    "    \"height\": out_image.shape[1],\n",
    "    \"width\": out_image.shape[2],\n",
    "    \"transform\": out_transform\n",
    "})\n",
    "\n",
    "# Save the clipped raster to a new file\n",
    "clipped_raster_path = 'clipped_raster.tif'\n",
    "with rasterio.open(clipped_raster_path, 'w', **out_meta) as dest:\n",
    "    dest.write(out_image)\n",
    "\n",
    "# Add the GeoJSON layer to the map\n",
    "folium.GeoJson(\n",
    "    oregon_geojson,\n",
    "    name='Oregon Boundary'\n",
    ").add_to(m)\n",
    "\n",
    "# Add layer control to switch between layers\n",
    "folium.LayerControl().add_to(m)\n",
    "\n",
    "# Display the map\n",
    "m\n",
    "\n",
    "gdal:rasterize --distance_units=meters --area_units=m2 --ellipsoid=EPSG:7030 --INPUT=/Users/am/Desktop/oregon/final/simplified-private-land.geojson --FIELD= --BURN=1 --USE_Z=false --UNITS=0 --WIDTH=2000 --HEIGHT=2000 --EXTENT='-124.703726901,-116.463106651,41.992081039,46.292043341 [EPSG:4326]' --NODATA=0 --OPTIONS= --DATA_TYPE=5 --INVERT=false --EXTRA= --OUTPUT=TEMPORARY_OUTPUT"
   ]
  },
  {
   "cell_type": "code",
   "execution_count": null,
   "metadata": {},
   "outputs": [],
   "source": [
    "gdal:rasterize --distance_units=meters --area_units=m2 --ellipsoid=EPSG:7030 --INPUT=/Users/am/Desktop/oregon/final/simplified-private-land.geojson --FIELD= --BURN=1 --USE_Z=false --UNITS=0 --WIDTH=2000 --HEIGHT=2000 --EXTENT='-124.703726901,-116.463106651,41.992081039,46.292043341 [EPSG:4326]' --NODATA=0 --OPTIONS= --DATA_TYPE=5 --INVERT=false --EXTRA= --OUTPUT=TEMPORARY_OUTPUT\n",
    "\n",
    "processing.run(\"gdal:rasterize\", {'INPUT':'/Users/am/Desktop/oregon/final/simplified-private-land.geojson','FIELD':'','BURN':1,'USE_Z':False,'UNITS':0,'WIDTH':2000,'HEIGHT':2000,'EXTENT':'-124.703726901,-116.463106651,41.992081039,46.292043341 [EPSG:4326]','NODATA':0,'OPTIONS':'','DATA_TYPE':5,'INIT':None,'INVERT':False,'EXTRA':'','OUTPUT':'TEMPORARY_OUTPUT'})"
   ]
  }
 ],
 "metadata": {
  "language_info": {
   "name": "python"
  }
 },
 "nbformat": 4,
 "nbformat_minor": 2
}
